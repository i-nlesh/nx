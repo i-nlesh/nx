{
  "nbformat": 4,
  "nbformat_minor": 0,
  "metadata": {
    "colab": {
      "provenance": []
    },
    "kernelspec": {
      "name": "python3",
      "display_name": "Python 3"
    },
    "language_info": {
      "name": "python"
    }
  },
  "cells": [
    {
      "cell_type": "code",
      "execution_count": null,
      "metadata": {
        "colab": {
          "base_uri": "https://localhost:8080/"
        },
        "id": "W4EYtkfPSXEl",
        "outputId": "b0944ae5-17b9-4f35-bfbf-8a5ed5708be5"
      },
      "outputs": [
        {
          "output_type": "stream",
          "name": "stdout",
          "text": [
            "Requirement already satisfied: pytube3 in /usr/local/lib/python3.10/dist-packages (9.6.4)\n",
            "Requirement already satisfied: typing-extensions in /usr/local/lib/python3.10/dist-packages (from pytube3) (4.12.2)\n"
          ]
        }
      ],
      "source": [
        "pip install pytube3\n"
      ]
    },
    {
      "cell_type": "code",
      "source": [
        "pip install --upgrade pytube"
      ],
      "metadata": {
        "colab": {
          "base_uri": "https://localhost:8080/"
        },
        "id": "YrjvUahsSb_p",
        "outputId": "a9fd2020-3949-40ef-dc3c-f01c65ef9ce3"
      },
      "execution_count": null,
      "outputs": [
        {
          "output_type": "stream",
          "name": "stdout",
          "text": [
            "Requirement already satisfied: pytube in /usr/local/lib/python3.10/dist-packages (15.0.0)\n"
          ]
        }
      ]
    },
    {
      "cell_type": "code",
      "source": [
        "from pytube import YouTube"
      ],
      "metadata": {
        "id": "4gmtPZoIScCK"
      },
      "execution_count": null,
      "outputs": []
    },
    {
      "cell_type": "code",
      "source": [
        "pip install yt-opts"
      ],
      "metadata": {
        "colab": {
          "base_uri": "https://localhost:8080/"
        },
        "id": "KmIXOX1NScEp",
        "outputId": "181e1952-bc07-4180-d683-92f644bf401a"
      },
      "execution_count": null,
      "outputs": [
        {
          "output_type": "stream",
          "name": "stdout",
          "text": [
            "Requirement already satisfied: yt-dlp in /usr/local/lib/python3.10/dist-packages (2024.9.27)\n",
            "Requirement already satisfied: brotli in /usr/local/lib/python3.10/dist-packages (from yt-dlp) (1.1.0)\n",
            "Requirement already satisfied: certifi in /usr/local/lib/python3.10/dist-packages (from yt-dlp) (2024.8.30)\n",
            "Requirement already satisfied: mutagen in /usr/local/lib/python3.10/dist-packages (from yt-dlp) (1.47.0)\n",
            "Requirement already satisfied: pycryptodomex in /usr/local/lib/python3.10/dist-packages (from yt-dlp) (3.21.0)\n",
            "Requirement already satisfied: requests<3,>=2.32.2 in /usr/local/lib/python3.10/dist-packages (from yt-dlp) (2.32.3)\n",
            "Requirement already satisfied: urllib3<3,>=1.26.17 in /usr/local/lib/python3.10/dist-packages (from yt-dlp) (2.2.3)\n",
            "Requirement already satisfied: websockets>=13.0 in /usr/local/lib/python3.10/dist-packages (from yt-dlp) (13.1)\n",
            "Requirement already satisfied: charset-normalizer<4,>=2 in /usr/local/lib/python3.10/dist-packages (from requests<3,>=2.32.2->yt-dlp) (3.3.2)\n",
            "Requirement already satisfied: idna<4,>=2.5 in /usr/local/lib/python3.10/dist-packages (from requests<3,>=2.32.2->yt-dlp) (3.10)\n"
          ]
        }
      ]
    },
    {
      "cell_type": "code",
      "source": [
        "link = input(\"Enter the link of the video you want to download: \")\n",
        "yt = YouTube(link)"
      ],
      "metadata": {
        "colab": {
          "base_uri": "https://localhost:8080/"
        },
        "id": "DNPk2dTOSvv6",
        "outputId": "8219e2fd-5177-4a45-e88d-68cf31c348f7"
      },
      "execution_count": null,
      "outputs": [
        {
          "name": "stdout",
          "output_type": "stream",
          "text": [
            "Enter the link of the video you want to download: https://youtu.be/jNQXAC9IVRw?si=bn_XTH4tR6Q3GHLE\n"
          ]
        }
      ]
    },
    {
      "cell_type": "code",
      "source": [
        "# to print title\n",
        "print(\"title\" , yt.title)\n",
        "#to get numer of views\n",
        "print(\"views\" , yt.views)\n",
        "#to get lenght of videos\n",
        "print(\"duration\" , yt.length)\n",
        "#to get description\n",
        "print(\"description\" , yt.description)\n",
        "#to get rating\n",
        "print(\"rating\" , yt.rating)"
      ],
      "metadata": {
        "colab": {
          "base_uri": "https://localhost:8080/"
        },
        "id": "LSnjwMf-ScJ3",
        "outputId": "4f59319d-9aeb-4d0d-fb76-823273d584e1"
      },
      "execution_count": null,
      "outputs": [
        {
          "output_type": "stream",
          "name": "stdout",
          "text": [
            "title Me at the zoo\n",
            "views 335988605\n",
            "duration 19\n",
            "description None\n",
            "rating None\n"
          ]
        }
      ]
    },
    {
      "cell_type": "code",
      "source": [
        "from yt_dlp import YoutubeDL\n",
        "download_option =input(\"do you want to download video yes/no\").lower()\n",
        "\n",
        "if download_option == \"yes\":\n",
        "  url = 'https://youtu.be/jNQXAC9IVRw?si=T-jZnb4u8p0BEzGb'\n",
        "  ydl_opts ={'format':'bestvideo+bestaudio'}\n",
        "  with YoutubeDL(ydl_opts) as ydl:\n",
        "    print(\"downloading\")\n",
        "    ydl.download([url])\n",
        "    print(\"download completed.\")\n",
        "else:\n",
        "  print(\"thank you\")"
      ],
      "metadata": {
        "colab": {
          "base_uri": "https://localhost:8080/",
          "height": 0
        },
        "id": "ZQ98CwR7ScNN",
        "outputId": "b223f65e-43ce-4c18-c874-e9d87db91224"
      },
      "execution_count": 9,
      "outputs": [
        {
          "output_type": "stream",
          "name": "stdout",
          "text": [
            "do you want to download video yes/noyes\n",
            "downloading\n",
            "[youtube] Extracting URL: https://youtu.be/jNQXAC9IVRw?si=T-jZnb4u8p0BEzGb\n",
            "[youtube] jNQXAC9IVRw: Downloading webpage\n",
            "[youtube] jNQXAC9IVRw: Downloading ios player API JSON\n",
            "[youtube] jNQXAC9IVRw: Downloading web creator player API JSON\n",
            "[youtube] jNQXAC9IVRw: Downloading m3u8 information\n",
            "[info] jNQXAC9IVRw: Downloading 1 format(s): 242+140\n",
            "[download] Destination: Me at the zoo [jNQXAC9IVRw].f242.webm\n",
            "[download] 100% of  286.21KiB in 00:00:00 at 2.48MiB/s   \n",
            "[download] Destination: Me at the zoo [jNQXAC9IVRw].f140.m4a\n",
            "[download] 100% of  301.95KiB in 00:00:00 at 3.77MiB/s   \n",
            "[Merger] Merging formats into \"Me at the zoo [jNQXAC9IVRw].mkv\"\n",
            "Deleting original file Me at the zoo [jNQXAC9IVRw].f242.webm (pass -k to keep)\n",
            "Deleting original file Me at the zoo [jNQXAC9IVRw].f140.m4a (pass -k to keep)\n",
            "download completed.\n"
          ]
        }
      ]
    }
  ]
}